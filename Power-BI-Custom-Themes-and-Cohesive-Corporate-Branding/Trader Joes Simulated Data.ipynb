{
 "cells": [
  {
   "cell_type": "code",
   "execution_count": 6,
   "metadata": {},
   "outputs": [],
   "source": [
    "import pandas as pd\n",
    "import random\n",
    "\n",
    "# Constants\n",
    "years = [2021, 2022, 2023]\n",
    "quarters = ['Q1', 'Q2', 'Q3', 'Q4']\n",
    "num_stores = 20\n",
    "\n",
    "# Initialize a list to hold the data\n",
    "data = []\n",
    "\n",
    "# Generate the data\n",
    "for year_index, year in enumerate(years):\n",
    "    for quarter in quarters:\n",
    "        for store_id in range(1, num_stores + 1):\n",
    "            # Set a base revenue for the first year\n",
    "            if year_index == 0:\n",
    "                total_revenue = random.randint(1000000, 1500000)\n",
    "            else:\n",
    "                # Apply a growth rate (e.g., 5% to 10%) based on the previous year's revenue\n",
    "                prev_revenue = data[-(num_stores * 4)][3]  # Get last year's Q4 revenue for this store\n",
    "                growth_rate = random.uniform(0.05, 0.10)  # Growth rate between 5% and 10%\n",
    "                total_revenue = int(prev_revenue * (1 + growth_rate))\n",
    "\n",
    "            # Calculate COGS based on the new revenue with a similar range of percentage\n",
    "            cogs_percentage = random.uniform(0.65, 0.85)\n",
    "            cogs = int(total_revenue * cogs_percentage)\n",
    "            profit = total_revenue - cogs  # Calculate profit\n",
    "            \n",
    "            # Append to data\n",
    "            data.append([year, quarter, store_id, total_revenue, profit, cogs])\n",
    "\n",
    "# Create a DataFrame\n",
    "columns = ['Year', 'Quarter', 'StoreId', 'Total_Revenue', 'Profit', 'COGS']\n",
    "df = pd.DataFrame(data, columns=columns)\n",
    "\n",
    "#print(df)\n",
    "# Save to CSV\n",
    "df.to_csv('trader_joes_revenue_trending_simulation.csv', index=False)\n",
    "\n",
    "# print(\"Trending simulation data has been generated and saved to 'trader_joes_revenue_trending_simulation.csv'.\")\n"
   ]
  }
 ],
 "metadata": {
  "kernelspec": {
   "display_name": "Python 3",
   "language": "python",
   "name": "python3"
  },
  "language_info": {
   "codemirror_mode": {
    "name": "ipython",
    "version": 3
   },
   "file_extension": ".py",
   "mimetype": "text/x-python",
   "name": "python",
   "nbconvert_exporter": "python",
   "pygments_lexer": "ipython3",
   "version": "3.11.7"
  }
 },
 "nbformat": 4,
 "nbformat_minor": 2
}
